{
 "cells": [
  {
   "cell_type": "markdown",
   "id": "af74d01a",
   "metadata": {},
   "source": [
    "# KNN Classifier with Cross-Validation and Feature Selection\n",
    "\n",
    "This notebook performs K-Nearest Neighbors classification on the breast cancer dataset.\n",
    "\n",
    "It follows the correct ML workflow:\n",
    "- Train/test split with stratification\n",
    "- GridSearchCV on training data to tune number of features and `k`\n",
    "- Final model training and test evaluation\n",
    "- Prints selected feature names and plots confusion matrix"
   ]
  },
  {
   "cell_type": "code",
   "execution_count": null,
   "id": "94596c5a",
   "metadata": {},
   "outputs": [],
   "source": [
    "\n",
    "import pandas as pd\n",
    "import numpy as np\n",
    "import matplotlib.pyplot as plt\n",
    "from sklearn.model_selection import train_test_split, GridSearchCV\n",
    "from sklearn.preprocessing import StandardScaler\n",
    "from sklearn.pipeline import Pipeline\n",
    "from sklearn.feature_selection import SelectKBest, f_classif\n",
    "from sklearn.neighbors import KNeighborsClassifier\n",
    "from sklearn.metrics import accuracy_score, confusion_matrix, ConfusionMatrixDisplay\n"
   ]
  },
  {
   "cell_type": "code",
   "execution_count": null,
   "id": "f235899e",
   "metadata": {},
   "outputs": [],
   "source": [
    "\n",
    "# Load dataset\n",
    "df = pd.read_csv(\"data.csv\")\n",
    "df = df.drop(columns=[\"id\", \"Unnamed: 32\"])\n",
    "X = df.drop(columns=[\"diagnosis\"])\n",
    "y = df[\"diagnosis\"].map({\"M\": 1, \"B\": 0}).astype(int)\n",
    "\n",
    "# Train/test split (once only)\n",
    "X_train, X_test, y_train, y_test = train_test_split(X, y, test_size=0.2, random_state=42, stratify=y)\n",
    "print(\"Train size:\", X_train.shape, \"Test size:\", X_test.shape)\n"
   ]
  },
  {
   "cell_type": "code",
   "execution_count": null,
   "id": "724673f3",
   "metadata": {},
   "outputs": [],
   "source": [
    "\n",
    "# Define pipeline\n",
    "pipe = Pipeline([\n",
    "    (\"scaler\", StandardScaler()),\n",
    "    (\"select\", SelectKBest(score_func=f_classif)),\n",
    "    (\"knn\", KNeighborsClassifier())\n",
    "])\n",
    "\n",
    "# Define parameter grid\n",
    "param_grid = {\n",
    "    \"select__k\": [5, 10, 15, 20],\n",
    "    \"knn__n_neighbors\": list(range(1, 16))\n",
    "}\n",
    "\n",
    "# GridSearchCV on training set only\n",
    "grid = GridSearchCV(pipe, param_grid, cv=5)\n",
    "grid.fit(X_train, y_train)\n",
    "\n",
    "print(\"Best parameters from GridSearchCV:\", grid.best_params_)\n",
    "print(\"Best cross-validation score:\", grid.best_score_)\n"
   ]
  },
  {
   "cell_type": "code",
   "execution_count": null,
   "id": "619047c2",
   "metadata": {},
   "outputs": [],
   "source": [
    "\n",
    "# Show which features were selected\n",
    "selector = grid.best_estimator_.named_steps['select']\n",
    "mask = selector.get_support()\n",
    "selected_feature_names = X.columns[mask]\n",
    "print(\"Selected features:\", list(selected_feature_names))\n"
   ]
  },
  {
   "cell_type": "code",
   "execution_count": null,
   "id": "bdf44338",
   "metadata": {},
   "outputs": [],
   "source": [
    "\n",
    "# Predict on test set using best model\n",
    "y_pred = grid.predict(X_test)\n",
    "\n",
    "# Evaluate\n",
    "accuracy = accuracy_score(y_test, y_pred)\n",
    "print(\"Test Accuracy:\", accuracy)\n",
    "\n",
    "cm = confusion_matrix(y_test, y_pred)\n",
    "disp = ConfusionMatrixDisplay(confusion_matrix=cm, display_labels=[\"Benign\", \"Malignant\"])\n",
    "disp.plot()\n",
    "plt.title(\"Confusion Matrix on Test Set\")\n",
    "plt.show()\n"
   ]
  }
 ],
 "metadata": {},
 "nbformat": 4,
 "nbformat_minor": 5
}
