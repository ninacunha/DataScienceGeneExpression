{
 "cells": [
  {
   "cell_type": "markdown",
   "id": "4f066b2b",
   "metadata": {},
   "source": [
    "# KNN (temp)"
   ]
  },
  {
   "cell_type": "code",
   "execution_count": 2,
   "id": "101359c0",
   "metadata": {},
   "outputs": [],
   "source": [
    "\n",
    "import pandas as pd\n",
    "import numpy as np\n",
    "import matplotlib.pyplot as plt\n",
    "from sklearn.model_selection import train_test_split, KFold\n",
    "from sklearn.preprocessing import StandardScaler\n",
    "from sklearn.feature_selection import SelectKBest, f_classif\n",
    "from sklearn.neighbors import KNeighborsClassifier\n",
    "from sklearn.metrics import accuracy_score, confusion_matrix, ConfusionMatrixDisplay\n"
   ]
  },
  {
   "cell_type": "code",
   "execution_count": 4,
   "id": "8b73433b",
   "metadata": {},
   "outputs": [
    {
     "name": "stdout",
     "output_type": "stream",
     "text": [
      "Train size: (455, 30) Test size: (114, 30)\n"
     ]
    }
   ],
   "source": [
    "\n",
    "df = pd.read_csv(\"data.csv\")\n",
    "df = df.drop(columns=[\"id\", \"Unnamed: 32\"])\n",
    "X = df.drop(columns=[\"diagnosis\"])\n",
    "y = df[\"diagnosis\"].map({\"M\": 1, \"B\": 0}).astype(int)\n",
    "\n",
    "X_trainlog, X_testlog, y_trainlog, y_testlog = train_test_split(X, y, test_size=0.2, random_state=314, stratify=y)\n",
    "print(\"Train size:\", X_trainlog.shape, \"Test size:\", X_testlog.shape)\n"
   ]
  },
  {
   "cell_type": "code",
   "execution_count": 6,
   "id": "b7b5ff47",
   "metadata": {},
   "outputs": [
    {
     "name": "stdout",
     "output_type": "stream",
     "text": [
      "Best cross-validation score: 0.9429\n",
      "Best number of neighbors: 5\n",
      "Best number of features: 10\n"
     ]
    }
   ],
   "source": [
    "\n",
    "kf = KFold(n_splits=5, shuffle=True, random_state=314)\n",
    "\n",
    "feature_range = [5, 10, 15]\n",
    "k_range = range(1, 16)\n",
    "\n",
    "best_score = 0\n",
    "best_k = None\n",
    "best_f = None\n",
    "best_feature_mask = None\n",
    "\n",
    "for num_features in feature_range:\n",
    "    for k_val in k_range:\n",
    "        fold_scores = []\n",
    "        \n",
    "        for train_idx, val_idx in kf.split(X_trainlog):\n",
    "            X_train = X_trainlog.iloc[train_idx]\n",
    "            X_val = X_trainlog.iloc[val_idx]\n",
    "            y_train = y_trainlog.iloc[train_idx]\n",
    "            y_val = y_trainlog.iloc[val_idx]\n",
    "            \n",
    "            scaler = StandardScaler()\n",
    "            X_train_scaled = scaler.fit_transform(X_train)\n",
    "            X_val_scaled = scaler.transform(X_val)\n",
    "            \n",
    "            selector = SelectKBest(score_func=f_classif, k=num_features)\n",
    "            X_train_selected = selector.fit_transform(X_train_scaled, y_train)\n",
    "            X_val_selected = selector.transform(X_val_scaled)\n",
    "            \n",
    "            knn = KNeighborsClassifier(n_neighbors=k_val)\n",
    "            knn.fit(X_train_selected, y_train)\n",
    "            score = knn.score(X_val_selected, y_val)\n",
    "            fold_scores.append(score)\n",
    "        \n",
    "        avg_score = np.mean(fold_scores)\n",
    "        if avg_score > best_score:\n",
    "            best_score = avg_score\n",
    "            best_k = k_val\n",
    "            best_f = num_features\n",
    "            best_feature_mask = selector.get_support()\n",
    "\n",
    "print(f\"Best cross-validation score: {best_score:.4f}\")\n",
    "print(f\"Best number of neighbors: {best_k}\")\n",
    "print(f\"Best number of features: {best_f}\")\n"
   ]
  },
  {
   "cell_type": "code",
   "execution_count": 8,
   "id": "32310522",
   "metadata": {},
   "outputs": [
    {
     "name": "stdout",
     "output_type": "stream",
     "text": [
      "Selected features: ['radius_mean', 'perimeter_mean', 'area_mean', 'concavity_mean', 'concave points_mean', 'radius_worst', 'perimeter_worst', 'area_worst', 'concavity_worst', 'concave points_worst']\n",
      "Test Accuracy: 0.9649122807017544\n"
     ]
    },
    {
     "data": {
      "image/png": "[encoded data removed]",
      "text/plain": [
       "<Figure size 640x480 with 2 Axes>"
      ]
     },
     "metadata": {},
     "output_type": "display_data"
    }
   ],
   "source": [
    "\n",
    "scaler = StandardScaler()\n",
    "X_train_scaled = scaler.fit_transform(X_trainlog)\n",
    "X_test_scaled = scaler.transform(X_testlog)\n",
    "\n",
    "selector = SelectKBest(score_func=f_classif, k=best_f)\n",
    "X_train_selected = selector.fit_transform(X_train_scaled, y_trainlog)\n",
    "X_test_selected = selector.transform(X_test_scaled)\n",
    "\n",
    "final_features = X.columns[selector.get_support()]\n",
    "print(\"Selected features:\", list(final_features))\n",
    "\n",
    "knn_final = KNeighborsClassifier(n_neighbors=best_k)\n",
    "knn_final.fit(X_train_selected, y_trainlog)\n",
    "y_pred = knn_final.predict(X_test_selected)\n",
    "\n",
    "accuracy = accuracy_score(y_testlog, y_pred)\n",
    "print(\"Test Accuracy:\", accuracy)\n",
    "\n",
    "cm = confusion_matrix(y_testlog, y_pred)\n",
    "disp = ConfusionMatrixDisplay(confusion_matrix=cm, display_labels=[\"Benign\", \"Malignant\"])\n",
    "disp.plot()\n",
    "plt.title(\"Confusion Matrix on Test Set\")\n",
    "plt.show()\n"
   ]
  },
  {
   "cell_type": "code",
   "execution_count": null,
   "id": "4f626549-d6d4-4acf-b1ce-ea7f44d2cdd9",
   "metadata": {},
   "outputs": [],
   "source": []
  }
 ],
 "metadata": {
  "kernelspec": {
   "display_name": "Python [conda env:base] *",
   "language": "python",
   "name": "conda-base-py"
  },
  "language_info": {
   "codemirror_mode": {
    "name": "ipython",
    "version": 3
   },
   "file_extension": ".py",
   "mimetype": "text/x-python",
   "name": "python",
   "nbconvert_exporter": "python",
   "pygments_lexer": "ipython3",
   "version": "3.12.7"
  }
 },
 "nbformat": 4,
 "nbformat_minor": 5
}
